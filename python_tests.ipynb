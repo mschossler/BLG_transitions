{
 "cells": [
  {
   "cell_type": "code",
   "execution_count": 49,
   "id": "da29f557",
   "metadata": {},
   "outputs": [
    {
     "name": "stdout",
     "output_type": "stream",
     "text": [
      "/home/matheus/python/matheus_env/bin/python3.9\n"
     ]
    }
   ],
   "source": [
    "import sys\n",
    "print(sys.executable)\n",
    "\n",
    "from datetime import datetime\n",
    "import os\n",
    "\n",
    "now = datetime.now()\n",
    "current_time = now.strftime(\"%Y-%m-%d %H:%M:%S\")\n",
    "# dir_path = os.path.dirname(os.path.realpath(__file__))\n",
    "cwd = os.getcwd()\n"
   ]
  },
  {
   "cell_type": "code",
   "execution_count": 73,
   "id": "84721e54",
   "metadata": {},
   "outputs": [
    {
     "data": {
      "text/plain": [
       "False"
      ]
     },
     "execution_count": 73,
     "metadata": {},
     "output_type": "execute_result"
    }
   ],
   "source": [
    "import filecmp\n",
    "filecmp.cmp('aux2/nu4_v12_wspin_random_rho0_hermitian_rho0phbroken_ep0.5_Zm0.0178.csv', 'aux3/nu4_v12_wspin_random_rho0_hermitian_rho0phbroken_ep0.5_Zm0.0007527.csv')\n"
   ]
  },
  {
   "cell_type": "code",
   "execution_count": null,
   "id": "488ae1e8",
   "metadata": {},
   "outputs": [],
   "source": []
  },
  {
   "cell_type": "code",
   "execution_count": 57,
   "id": "27854ed6",
   "metadata": {},
   "outputs": [
    {
     "data": {
      "text/plain": [
       "True"
      ]
     },
     "execution_count": 57,
     "metadata": {},
     "output_type": "execute_result"
    }
   ],
   "source": [
    "import filecmp\n",
    "filecmp.cmp('aux2/h0_nu4_v12_wspin_random_rho0_hermitian_rho0phbroken_ep0.5_Zm0.0178.csv', 'aux3/h0_nu4_v12_wspin_random_rho0_hermitian_rho0phbroken_ep0.5_Zm0.0178.csv')\n"
   ]
  },
  {
   "cell_type": "code",
   "execution_count": 67,
   "id": "e5937d10",
   "metadata": {},
   "outputs": [
    {
     "data": {
      "text/plain": [
       "True"
      ]
     },
     "execution_count": 67,
     "metadata": {},
     "output_type": "execute_result"
    }
   ],
   "source": [
    "import filecmp\n",
    "filecmp.cmp('aux/rhoU_nu4_v12_wspin_random_rho0_hermitian_rho0phbroken_ep0.5_Zm0.0178.csv', 'aux2/rhoU_nu4_v12_wspin_random_rho0_hermitian_rho0phbroken_ep0.5_Zm0.0178.csv')\n"
   ]
  },
  {
   "cell_type": "code",
   "execution_count": 68,
   "id": "14a60581",
   "metadata": {},
   "outputs": [
    {
     "data": {
      "text/plain": [
       "True"
      ]
     },
     "execution_count": 68,
     "metadata": {},
     "output_type": "execute_result"
    }
   ],
   "source": [
    "import filecmp\n",
    "filecmp.cmp('aux/Eh-deltaU_nu4_v12_wspin_random_rho0_hermitian_rho0phbroken_ep0.5_Zm0.0178.csv', 'aux2/Eh_deltaU_nu4_v12_wspin_random_rho0_hermitian_rho0phbroken_ep0.5_Zm0.0178.csv')\n"
   ]
  },
  {
   "cell_type": "code",
   "execution_count": 69,
   "id": "816f97bf",
   "metadata": {},
   "outputs": [
    {
     "data": {
      "text/plain": [
       "False"
      ]
     },
     "execution_count": 69,
     "metadata": {},
     "output_type": "execute_result"
    }
   ],
   "source": [
    "import filecmp\n",
    "filecmp.cmp('aux/HintU_nu4_v12_wspin_random_rho0_hermitian_rho0phbroken_ep0.5_Zm0.0178.csv', 'aux2/Hint_nu4_v12_wspin_random_rho0_hermitian_rho0phbroken_ep0.5_Zm0.0178.csv')\n"
   ]
  },
  {
   "cell_type": "code",
   "execution_count": null,
   "id": "f9409d09",
   "metadata": {},
   "outputs": [],
   "source": []
  }
 ],
 "metadata": {
  "kernelspec": {
   "display_name": "Python 3 (ipykernel)",
   "language": "python",
   "name": "python3"
  },
  "language_info": {
   "codemirror_mode": {
    "name": "ipython",
    "version": 3
   },
   "file_extension": ".py",
   "mimetype": "text/x-python",
   "name": "python",
   "nbconvert_exporter": "python",
   "pygments_lexer": "ipython3",
   "version": "3.9.5"
  }
 },
 "nbformat": 4,
 "nbformat_minor": 5
}
