{
 "cells": [
  {
   "cell_type": "code",
   "execution_count": 2,
   "id": "da29f557",
   "metadata": {},
   "outputs": [
    {
     "name": "stdout",
     "output_type": "stream",
     "text": [
      "/home/matheus/python/matheus_env/bin/python3.9\n"
     ]
    }
   ],
   "source": [
    "import sys\n",
    "import numpy as np\n",
    "import pandas as pd\n",
    "print(sys.executable)\n",
    "\n",
    "from datetime import datetime\n",
    "import os\n",
    "\n",
    "now = datetime.now()\n",
    "current_time = now.strftime(\"%Y-%m-%d %H:%M:%S\")\n",
    "# dir_path = os.path.dirname(os.path.realpath(__file__))\n",
    "cwd = os.getcwd()\n"
   ]
  },
  {
   "cell_type": "code",
   "execution_count": 73,
   "id": "84721e54",
   "metadata": {},
   "outputs": [
    {
     "data": {
      "text/plain": [
       "False"
      ]
     },
     "execution_count": 73,
     "metadata": {},
     "output_type": "execute_result"
    }
   ],
   "source": [
    "import filecmp\n",
    "filecmp.cmp('aux2/nu4_v12_wspin_random_rho0_hermitian_rho0phbroken_ep0.5_Zm0.0178.csv', 'aux3/nu4_v12_wspin_random_rho0_hermitian_rho0phbroken_ep0.5_Zm0.0007527.csv')\n"
   ]
  },
  {
   "cell_type": "code",
   "execution_count": null,
   "id": "60a1023e",
   "metadata": {},
   "outputs": [],
   "source": []
  },
  {
   "cell_type": "code",
   "execution_count": 57,
   "id": "75df8249",
   "metadata": {},
   "outputs": [
    {
     "data": {
      "text/plain": [
       "True"
      ]
     },
     "execution_count": 57,
     "metadata": {},
     "output_type": "execute_result"
    }
   ],
   "source": [
    "import filecmp\n",
    "filecmp.cmp('aux2/h0_nu4_v12_wspin_random_rho0_hermitian_rho0phbroken_ep0.5_Zm0.0178.csv', 'aux3/h0_nu4_v12_wspin_random_rho0_hermitian_rho0phbroken_ep0.5_Zm0.0178.csv')\n"
   ]
  },
  {
   "cell_type": "code",
   "execution_count": 67,
   "id": "7cdd5f92",
   "metadata": {},
   "outputs": [
    {
     "data": {
      "text/plain": [
       "True"
      ]
     },
     "execution_count": 67,
     "metadata": {},
     "output_type": "execute_result"
    }
   ],
   "source": [
    "import filecmp\n",
    "filecmp.cmp('aux/rhoU_nu4_v12_wspin_random_rho0_hermitian_rho0phbroken_ep0.5_Zm0.0178.csv', 'aux2/rhoU_nu4_v12_wspin_random_rho0_hermitian_rho0phbroken_ep0.5_Zm0.0178.csv')\n"
   ]
  },
  {
   "cell_type": "code",
   "execution_count": 68,
   "id": "5debc6fe",
   "metadata": {},
   "outputs": [
    {
     "data": {
      "text/plain": [
       "True"
      ]
     },
     "execution_count": 68,
     "metadata": {},
     "output_type": "execute_result"
    }
   ],
   "source": [
    "import filecmp\n",
    "filecmp.cmp('aux/Eh-deltaU_nu4_v12_wspin_random_rho0_hermitian_rho0phbroken_ep0.5_Zm0.0178.csv', 'aux2/Eh_deltaU_nu4_v12_wspin_random_rho0_hermitian_rho0phbroken_ep0.5_Zm0.0178.csv')\n"
   ]
  },
  {
   "cell_type": "code",
   "execution_count": 69,
   "id": "76d78423",
   "metadata": {},
   "outputs": [
    {
     "data": {
      "text/plain": [
       "False"
      ]
     },
     "execution_count": 69,
     "metadata": {},
     "output_type": "execute_result"
    }
   ],
   "source": [
    "import filecmp\n",
    "filecmp.cmp('aux/HintU_nu4_v12_wspin_random_rho0_hermitian_rho0phbroken_ep0.5_Zm0.0178.csv', 'aux2/Hint_nu4_v12_wspin_random_rho0_hermitian_rho0phbroken_ep0.5_Zm0.0178.csv')\n"
   ]
  },
  {
   "cell_type": "code",
   "execution_count": 78,
   "id": "4fe64ba9",
   "metadata": {},
   "outputs": [
    {
     "data": {
      "text/plain": [
       "array([0, 0, 1, 0, 1, 1, 1, 0, 0, 0, 1, 0, 1, 1, 1, 0])"
      ]
     },
     "execution_count": 78,
     "metadata": {},
     "output_type": "execute_result"
    }
   ],
   "source": [
    "rho0ph = [[0, 0, 0, 0, 0, 0, 0, 0, 0, 0, 0, 0, 0, 0, 0, 0],\n",
    "          [0, 0, 0, 0, 0, 0, 0, 0, 0, 0, 0, 0, 0, 0, 0, 0],\n",
    "          [0, 0, 1, 0, 0, 0, 0, 0, 0, 0, 0, 0, 0, 0, 0, 0],\n",
    "          [0, 0, 0, 0, 0, 0, 0, 0, 0, 0, 0, 0, 0, 0, 0, 0],\n",
    "          [0, 0, 0, 0, 1, 0, 0, 0, 0, 0, 0, 0, 0, 0, 0, 0],\n",
    "          [0, 0, 0, 0, 0, 1, 0, 0, 0, 0, 0, 0, 0, 0, 0, 0],\n",
    "          [0, 0, 0, 0, 0, 0, 1, 0, 0, 0, 0, 0, 0, 0, 0, 0],\n",
    "          [0, 0, 0, 0, 0, 0, 0, 0, 0, 0, 0, 0, 0, 0, 0, 0],\n",
    "          [0, 0, 0, 0, 0, 0, 0, 0, 0, 0, 0, 0, 0, 0, 0, 0],\n",
    "          [0, 0, 0, 0, 0, 0, 0, 0, 0, 0, 0, 0, 0, 0, 0, 0],\n",
    "          [0, 0, 0, 0, 0, 0, 0, 0, 0, 0, 1, 0, 0, 0, 0, 0],\n",
    "          [0, 0, 0, 0, 0, 0, 0, 0, 0, 0, 0, 0, 0, 0, 0, 0],\n",
    "          [0, 0, 0, 0, 0, 0, 0, 0, 0, 0, 0, 0, 1, 0, 0, 0],\n",
    "          [0, 0, 0, 0, 0, 0, 0, 0, 0, 0, 0, 0, 0, 1, 0, 0],\n",
    "          [0, 0, 0, 0, 0, 0, 0, 0, 0, 0, 0, 0, 0, 0, 1, 0],\n",
    "          [0, 0, 0, 0, 0, 0, 0, 0, 0, 0, 0, 0, 0, 0, 0, 0]]\n",
    "\n",
    "np.diag(rho0ph)"
   ]
  },
  {
   "cell_type": "code",
   "execution_count": 89,
   "id": "31e24f50",
   "metadata": {},
   "outputs": [
    {
     "data": {
      "text/plain": [
       "[[0, 0, 0, 0, 0, 0, 0, 0, 0, 0, 0, 0, 0, 0, 0, 0],\n",
       " [0, 0, 0, 0, 0, 0, 0, 0, 0, 0, 0, 0, 0, 0, 0, 0],\n",
       " [0, 0, 1, 0, 0, 0, 0, 0, 0, 0, 0, 0, 0, 0, 0, 0],\n",
       " [0, 0, 0, 0, 0, 0, 0, 0, 0, 0, 0, 0, 0, 0, 0, 0],\n",
       " [0, 0, 0, 0, 1, 0, 0, 0, 0, 0, 0, 0, 0, 0, 0, 0],\n",
       " [0, 0, 0, 0, 0, 1, 0, 0, 0, 0, 0, 0, 0, 0, 0, 0],\n",
       " [0, 0, 0, 0, 0, 0, 1, 0, 0, 0, 0, 0, 0, 0, 0, 0],\n",
       " [0, 0, 0, 0, 0, 0, 0, 0, 0, 0, 0, 0, 0, 0, 0, 0],\n",
       " [0, 0, 0, 0, 0, 0, 0, 0, 0, 0, 0, 0, 0, 0, 0, 0],\n",
       " [0, 0, 0, 0, 0, 0, 0, 0, 0, 0, 0, 0, 0, 0, 0, 0],\n",
       " [0, 0, 0, 0, 0, 0, 0, 0, 0, 0, 1, 0, 0, 0, 0, 0],\n",
       " [0, 0, 0, 0, 0, 0, 0, 0, 0, 0, 0, 0, 0, 0, 0, 0],\n",
       " [0, 0, 0, 0, 0, 0, 0, 0, 0, 0, 0, 0, 1, 0, 0, 0],\n",
       " [0, 0, 0, 0, 0, 0, 0, 0, 0, 0, 0, 0, 0, 1, 0, 0],\n",
       " [0, 0, 0, 0, 0, 0, 0, 0, 0, 0, 0, 0, 0, 0, 1, 0],\n",
       " [0, 0, 0, 0, 0, 0, 0, 0, 0, 0, 0, 0, 0, 0, 0, 0]]"
      ]
     },
     "execution_count": 89,
     "metadata": {},
     "output_type": "execute_result"
    }
   ],
   "source": [
    "rho0ph = np.diag([0, 0, 1, 0, 1, 1, 1, 0, 0, 0, 1, 0, 1, 1, 1, 0]).tolist()\n",
    "rho0ph"
   ]
  },
  {
   "cell_type": "code",
   "execution_count": 82,
   "id": "0eb9374b",
   "metadata": {},
   "outputs": [
    {
     "data": {
      "text/plain": [
       "array([1, 0, 1, 0, 1, 0, 1, 0, 1, 0, 1, 0, 1, 0, 1, 0])"
      ]
     },
     "execution_count": 82,
     "metadata": {},
     "output_type": "execute_result"
    }
   ],
   "source": [
    "rho0phbroken = [[1, 0, 0, 0, 0, 0, 0, 0, 0, 0, 0, 0, 0, 0, 0, 0],\n",
    "                [0, 0, 0, 0, 0, 0, 0, 0, 0, 0, 0, 0, 0, 0, 0, 0],\n",
    "                [0, 0, 1, 0, 0, 0, 0, 0, 0, 0, 0, 0, 0, 0, 0, 0],\n",
    "                [0, 0, 0, 0, 0, 0, 0, 0, 0, 0, 0, 0, 0, 0, 0, 0],\n",
    "                [0, 0, 0, 0, 1, 0, 0, 0, 0, 0, 0, 0, 0, 0, 0, 0],\n",
    "                [0, 0, 0, 0, 0, 0, 0, 0, 0, 0, 0, 0, 0, 0, 0, 0],\n",
    "                [0, 0, 0, 0, 0, 0, 1, 0, 0, 0, 0, 0, 0, 0, 0, 0],\n",
    "                [0, 0, 0, 0, 0, 0, 0, 0, 0, 0, 0, 0, 0, 0, 0, 0],\n",
    "                [0, 0, 0, 0, 0, 0, 0, 0, 1, 0, 0, 0, 0, 0, 0, 0],\n",
    "                [0, 0, 0, 0, 0, 0, 0, 0, 0, 0, 0, 0, 0, 0, 0, 0],\n",
    "                [0, 0, 0, 0, 0, 0, 0, 0, 0, 0, 1, 0, 0, 0, 0, 0],\n",
    "                [0, 0, 0, 0, 0, 0, 0, 0, 0, 0, 0, 0, 0, 0, 0, 0],\n",
    "                [0, 0, 0, 0, 0, 0, 0, 0, 0, 0, 0, 0, 1, 0, 0, 0],\n",
    "                [0, 0, 0, 0, 0, 0, 0, 0, 0, 0, 0, 0, 0, 0, 0, 0],\n",
    "                [0, 0, 0, 0, 0, 0, 0, 0, 0, 0, 0, 0, 0, 0, 1, 0],\n",
    "                [0, 0, 0, 0, 0, 0, 0, 0, 0, 0, 0, 0, 0, 0, 0, 0]]\n",
    "np.diag(rho0phbroken)"
   ]
  },
  {
   "cell_type": "code",
   "execution_count": 90,
   "id": "134126f0",
   "metadata": {},
   "outputs": [
    {
     "data": {
      "text/plain": [
       "[[1, 0, 0, 0, 0, 0, 0, 0, 0, 0, 0, 0, 0, 0, 0, 0],\n",
       " [0, 0, 0, 0, 0, 0, 0, 0, 0, 0, 0, 0, 0, 0, 0, 0],\n",
       " [0, 0, 1, 0, 0, 0, 0, 0, 0, 0, 0, 0, 0, 0, 0, 0],\n",
       " [0, 0, 0, 0, 0, 0, 0, 0, 0, 0, 0, 0, 0, 0, 0, 0],\n",
       " [0, 0, 0, 0, 1, 0, 0, 0, 0, 0, 0, 0, 0, 0, 0, 0],\n",
       " [0, 0, 0, 0, 0, 0, 0, 0, 0, 0, 0, 0, 0, 0, 0, 0],\n",
       " [0, 0, 0, 0, 0, 0, 1, 0, 0, 0, 0, 0, 0, 0, 0, 0],\n",
       " [0, 0, 0, 0, 0, 0, 0, 0, 0, 0, 0, 0, 0, 0, 0, 0],\n",
       " [0, 0, 0, 0, 0, 0, 0, 0, 1, 0, 0, 0, 0, 0, 0, 0],\n",
       " [0, 0, 0, 0, 0, 0, 0, 0, 0, 0, 0, 0, 0, 0, 0, 0],\n",
       " [0, 0, 0, 0, 0, 0, 0, 0, 0, 0, 1, 0, 0, 0, 0, 0],\n",
       " [0, 0, 0, 0, 0, 0, 0, 0, 0, 0, 0, 0, 0, 0, 0, 0],\n",
       " [0, 0, 0, 0, 0, 0, 0, 0, 0, 0, 0, 0, 1, 0, 0, 0],\n",
       " [0, 0, 0, 0, 0, 0, 0, 0, 0, 0, 0, 0, 0, 0, 0, 0],\n",
       " [0, 0, 0, 0, 0, 0, 0, 0, 0, 0, 0, 0, 0, 0, 1, 0],\n",
       " [0, 0, 0, 0, 0, 0, 0, 0, 0, 0, 0, 0, 0, 0, 0, 0]]"
      ]
     },
     "execution_count": 90,
     "metadata": {},
     "output_type": "execute_result"
    }
   ],
   "source": [
    "rho0phbroken = np.diag([1, 0, 1, 0, 1, 0, 1, 0, 1, 0, 1, 0, 1, 0, 1, 0]).tolist()\n",
    "rho0phbroken"
   ]
  },
  {
   "cell_type": "code",
   "execution_count": 5,
   "id": "904f2e06",
   "metadata": {},
   "outputs": [],
   "source": [
    "x = pd.DataFrame([])"
   ]
  },
  {
   "cell_type": "code",
   "execution_count": 93,
   "id": "11117cf3",
   "metadata": {},
   "outputs": [
    {
     "data": {
      "text/plain": [
       "pandas.core.frame.DataFrame"
      ]
     },
     "execution_count": 93,
     "metadata": {},
     "output_type": "execute_result"
    }
   ],
   "source": [
    "type(x)"
   ]
  },
  {
   "cell_type": "code",
   "execution_count": 12,
   "id": "b5ad2a98",
   "metadata": {},
   "outputs": [],
   "source": [
    "def transition_energy(energies: pd.core.frame.DataFrame, two_allowed_bands: (str, str), extra_terms=0):\n",
    "    from_band, to_band = two_allowed_bands\n",
    "    if isinstance(energies, pd.DataFrame):\n",
    "        pass\n",
    "    else:\n",
    "        sys.exit('Invalid format for energies: pandas.DataFrame is expected')\n",
    "\n",
    "    transition_dict = {from_band + '_to_' + to_band: 0 + extra_terms}\n",
    "    return transition_dict"
   ]
  },
  {
   "cell_type": "code",
   "execution_count": 6,
   "id": "b3af92b0",
   "metadata": {},
   "outputs": [
    {
     "data": {
      "text/plain": [
       "{'y_to_z': 0}"
      ]
     },
     "execution_count": 6,
     "metadata": {},
     "output_type": "execute_result"
    }
   ],
   "source": [
    "transition_energy(x,('y','z'))"
   ]
  },
  {
   "cell_type": "code",
   "execution_count": 29,
   "id": "faf7b44c",
   "metadata": {},
   "outputs": [],
   "source": [
    "bands = ['LL0_Kp_Sdown', 'LL1_Kp_Sdown', 'LLm2_Kp_Sdown', 'LL2_Kp_Sdown',\n",
    "         'LL0_Km_Sdown', 'LL1_Km_Sdown', 'LLm2_Km_Sdown', 'LL2_Km_Sdown',\n",
    "         'LL0_Kp_Sup', 'LL1_Kp_Sup', 'LLm2_Kp_Sup', 'LL2_Kp_Sup',\n",
    "         'LL0_Km_Sup', 'LL1_Km_Sup', 'LLm2_Km_Sup', 'LL2_Km_Sup']"
   ]
  },
  {
   "cell_type": "code",
   "execution_count": 32,
   "id": "5a8afc68",
   "metadata": {},
   "outputs": [
    {
     "data": {
      "text/plain": [
       "[['LL0_Kp_Sdown', 'LL1_Kp_Sdown', 'LLm2_Kp_Sdown', 'LL2_Kp_Sdown'],\n",
       " ['LL0_Km_Sdown', 'LL1_Km_Sdown', 'LLm2_Km_Sdown', 'LL2_Km_Sdown'],\n",
       " ['LL0_Kp_Sup', 'LL1_Kp_Sup', 'LLm2_Kp_Sup', 'LL2_Kp_Sup'],\n",
       " ['LL0_Km_Sup', 'LL1_Km_Sup', 'LLm2_Km_Sup', 'LL2_Km_Sup']]"
      ]
     },
     "execution_count": 32,
     "metadata": {},
     "output_type": "execute_result"
    }
   ],
   "source": [
    "bands_by_sector"
   ]
  },
  {
   "cell_type": "code",
   "execution_count": 75,
   "id": "ba7daca9",
   "metadata": {},
   "outputs": [],
   "source": [
    "bands_by_sector = [list(t) for t in zip(*[iter(bands)]*4)]\n",
    "\n",
    "transitions =  []\n",
    "for sector in bands_by_sector:\n",
    "    for band1 in sector:\n",
    "        for band2 in sector:\n",
    "            if (('LL1' in band1) and ('LL2' in band2)) or (('LLm2' in band1) and ('LL1' in band2)):\n",
    "                transitions.append((band1,band2))\n",
    "\n",
    "                \n",
    "markers_list = [\"2\",\"1\",\"1\",\"2\",\"1\",\"1\",\"2\",\"2\"]\n",
    "color_list= ['tab:blue','tab:orange','tab:red','tab:purple','tab:brown','tab:gray','tab:olive','tab:cyan']\n",
    "\n",
    "transitions_dic = {}\n",
    "for two_allowed_bands in transitions:\n",
    "    band1, band2 = two_allowed_bands\n",
    "    if 'Sdown' in band1:\n",
    "        spin_sign = 'downarrow'\n",
    "    elif 'Sup' in band1:\n",
    "        spin_sign = 'uparrow'\n",
    "    \n",
    "    if 'Kp'in band1:\n",
    "        valley_sign = '+'\n",
    "        valley_sahpe = '-'\n",
    "    elif 'Km'in band1:\n",
    "        valley_sign = '-'\n",
    "        valley_sahpe = '--'\n",
    "    \n",
    "    if ('LL1' in band1):\n",
    "        LL_band1 = '1'\n",
    "    elif ('LLm2' in band1):\n",
    "        LL_band1 = '-2'\n",
    "    elif ('LL1' in band1):\n",
    "        LL_band1 = '2'\n",
    "        \n",
    "    if ('LL1' in band2):\n",
    "        LL_band2 = '1'\n",
    "    elif ('LLm2' in band2):\n",
    "        LL_band2 = '-2'\n",
    "    elif ('LL2' in band2):\n",
    "        LL_band2 = '2'\n",
    "    \n",
    "\n",
    "    if (('LL1' in band1) and ('LL2' in band2)) or (('LLm2' in band1) and ('LL1' in band2)):\n",
    "        transitions_dic[band1 + '_to_' + band2] = {'color': color_list.pop(0),\n",
    "                                                   'markers': markers_list.pop(0),\n",
    "                                                   'shape': valley_sahpe,\n",
    "                                                   'label': r'$'+ LL_band1 +'\\mathrm{K}^{'+ valley_sign +'}\\\\' + spin_sign + '\\ \\longrightarrow\\ '+ LL_band2 + '\\mathrm{K}^{'+ valley_sign +'}\\\\' + spin_sign +'$'\n",
    "                                                  }"
   ]
  },
  {
   "cell_type": "code",
   "execution_count": 40,
   "id": "0b4e52dc",
   "metadata": {},
   "outputs": [
    {
     "data": {
      "text/plain": [
       "[('LL1_Kp_Sdown', 'LL2_Kp_Sdown'),\n",
       " ('LLm2_Kp_Sdown', 'LL1_Kp_Sdown'),\n",
       " ('LL1_Km_Sdown', 'LL2_Km_Sdown'),\n",
       " ('LLm2_Km_Sdown', 'LL1_Km_Sdown'),\n",
       " ('LL1_Kp_Sup', 'LL2_Kp_Sup'),\n",
       " ('LLm2_Kp_Sup', 'LL1_Kp_Sup'),\n",
       " ('LL1_Km_Sup', 'LL2_Km_Sup'),\n",
       " ('LLm2_Km_Sup', 'LL1_Km_Sup')]"
      ]
     },
     "execution_count": 40,
     "metadata": {},
     "output_type": "execute_result"
    }
   ],
   "source": [
    "transitions"
   ]
  },
  {
   "cell_type": "code",
   "execution_count": 76,
   "id": "20c149fa",
   "metadata": {},
   "outputs": [
    {
     "name": "stdout",
     "output_type": "stream",
     "text": [
      "$1\\mathrm{K}^{+}\\downarrow\\ \\longrightarrow\\ 2\\mathrm{K}^{+}\\downarrow$\n",
      "$-2\\mathrm{K}^{+}\\downarrow\\ \\longrightarrow\\ 1\\mathrm{K}^{+}\\downarrow$\n",
      "$1\\mathrm{K}^{-}\\downarrow\\ \\longrightarrow\\ 2\\mathrm{K}^{-}\\downarrow$\n",
      "$-2\\mathrm{K}^{-}\\downarrow\\ \\longrightarrow\\ 1\\mathrm{K}^{-}\\downarrow$\n",
      "$1\\mathrm{K}^{+}\\uparrow\\ \\longrightarrow\\ 2\\mathrm{K}^{+}\\uparrow$\n",
      "$-2\\mathrm{K}^{+}\\uparrow\\ \\longrightarrow\\ 1\\mathrm{K}^{+}\\uparrow$\n",
      "$1\\mathrm{K}^{-}\\uparrow\\ \\longrightarrow\\ 2\\mathrm{K}^{-}\\uparrow$\n",
      "$-2\\mathrm{K}^{-}\\uparrow\\ \\longrightarrow\\ 1\\mathrm{K}^{-}\\uparrow$\n"
     ]
    }
   ],
   "source": [
    "for k, v in transitions_dic.items():\n",
    "    print(v['label'])"
   ]
  },
  {
   "cell_type": "code",
   "execution_count": 77,
   "id": "7987fa43",
   "metadata": {},
   "outputs": [
    {
     "data": {
      "text/plain": [
       "{'LL1_Kp_Sdown_to_LL2_Kp_Sdown': {'color': 'tab:blue',\n",
       "  'markers': '2',\n",
       "  'shape': '-',\n",
       "  'label': '$1\\\\mathrm{K}^{+}\\\\downarrow\\\\ \\\\longrightarrow\\\\ 2\\\\mathrm{K}^{+}\\\\downarrow$'},\n",
       " 'LLm2_Kp_Sdown_to_LL1_Kp_Sdown': {'color': 'tab:orange',\n",
       "  'markers': '1',\n",
       "  'shape': '-',\n",
       "  'label': '$-2\\\\mathrm{K}^{+}\\\\downarrow\\\\ \\\\longrightarrow\\\\ 1\\\\mathrm{K}^{+}\\\\downarrow$'},\n",
       " 'LL1_Km_Sdown_to_LL2_Km_Sdown': {'color': 'tab:red',\n",
       "  'markers': '1',\n",
       "  'shape': '--',\n",
       "  'label': '$1\\\\mathrm{K}^{-}\\\\downarrow\\\\ \\\\longrightarrow\\\\ 2\\\\mathrm{K}^{-}\\\\downarrow$'},\n",
       " 'LLm2_Km_Sdown_to_LL1_Km_Sdown': {'color': 'tab:purple',\n",
       "  'markers': '2',\n",
       "  'shape': '--',\n",
       "  'label': '$-2\\\\mathrm{K}^{-}\\\\downarrow\\\\ \\\\longrightarrow\\\\ 1\\\\mathrm{K}^{-}\\\\downarrow$'},\n",
       " 'LL1_Kp_Sup_to_LL2_Kp_Sup': {'color': 'tab:brown',\n",
       "  'markers': '1',\n",
       "  'shape': '-',\n",
       "  'label': '$1\\\\mathrm{K}^{+}\\\\uparrow\\\\ \\\\longrightarrow\\\\ 2\\\\mathrm{K}^{+}\\\\uparrow$'},\n",
       " 'LLm2_Kp_Sup_to_LL1_Kp_Sup': {'color': 'tab:gray',\n",
       "  'markers': '1',\n",
       "  'shape': '-',\n",
       "  'label': '$-2\\\\mathrm{K}^{+}\\\\uparrow\\\\ \\\\longrightarrow\\\\ 1\\\\mathrm{K}^{+}\\\\uparrow$'},\n",
       " 'LL1_Km_Sup_to_LL2_Km_Sup': {'color': 'tab:olive',\n",
       "  'markers': '2',\n",
       "  'shape': '--',\n",
       "  'label': '$1\\\\mathrm{K}^{-}\\\\uparrow\\\\ \\\\longrightarrow\\\\ 2\\\\mathrm{K}^{-}\\\\uparrow$'},\n",
       " 'LLm2_Km_Sup_to_LL1_Km_Sup': {'color': 'tab:cyan',\n",
       "  'markers': '2',\n",
       "  'shape': '--',\n",
       "  'label': '$-2\\\\mathrm{K}^{-}\\\\uparrow\\\\ \\\\longrightarrow\\\\ 1\\\\mathrm{K}^{-}\\\\uparrow$'}}"
      ]
     },
     "execution_count": 77,
     "metadata": {},
     "output_type": "execute_result"
    }
   ],
   "source": [
    "transitions_dic"
   ]
  },
  {
   "cell_type": "code",
   "execution_count": 39,
   "id": "dde85c2c",
   "metadata": {},
   "outputs": [],
   "source": [
    "transitions =  []\n",
    "for sector in bands_by_sector:\n",
    "    for band1 in sector:\n",
    "        for band2 in sector:\n",
    "            if (('LL1' in band1) and ('LL2' in band2)) or (('LLm2' in band1) and ('LL1' in band2)):\n",
    "                transitions.append((band1,band2))"
   ]
  },
  {
   "cell_type": "code",
   "execution_count": 58,
   "id": "f9b885ec",
   "metadata": {},
   "outputs": [],
   "source": [
    "spin_sign = r'\\uparrow'"
   ]
  },
  {
   "cell_type": "code",
   "execution_count": 59,
   "id": "8bbfe2e1",
   "metadata": {},
   "outputs": [
    {
     "name": "stdout",
     "output_type": "stream",
     "text": [
      "\\uparrow\n"
     ]
    }
   ],
   "source": [
    "print(spin_sign)"
   ]
  },
  {
   "cell_type": "code",
   "execution_count": 78,
   "id": "8613c5c3",
   "metadata": {},
   "outputs": [],
   "source": [
    "style_dict = {'LL0_Kp_Sdown': ('lightblue', '-', 'v', r'$\\ \\ \\,0\\mathrm{K}^{+}\\downarrow$'),\n",
    "              'LL1_Kp_Sdown': ('salmon', '-', 'v', r'$\\ \\ \\,1\\mathrm{K}^{+}\\downarrow$'),\n",
    "              'LLm2_Kp_Sdown': ('gray', '-', 'v', r'$-2\\mathrm{K}^{+}\\downarrow$'),\n",
    "              'LL2_Kp_Sdown': ('gray', '-', 'v', r'$\\ \\ \\,2\\mathrm{K}^{+}\\downarrow$'),\n",
    "              'LL0_Km_Sdown': ('lightblue', '--', 'v', r'$\\ \\ \\,0\\mathrm{K}^{-}\\downarrow$'),\n",
    "              'LL1_Km_Sdown': ('salmon', '--', 'v', r'$\\ \\ \\,1\\mathrm{K}^{-}\\downarrow$'),\n",
    "              'LLm2_Km_Sdown': ('gray', '--', 'v', r'$-2\\mathrm{K}^{-}\\downarrow$'),\n",
    "              'LL2_Km_Sdown': ('gray', '--', 'v', r'$\\ \\ \\,2\\mathrm{K}^{-}\\downarrow$'),\n",
    "              'LL0_Kp_Sup': ('blue', '-', '^', r'$\\ \\ \\,0\\mathrm{K}^{+}\\uparrow$'),\n",
    "              'LL1_Kp_Sup': ('red', '-', '^', r'$\\ \\ \\,1\\mathrm{K}^{+}\\uparrow$'),\n",
    "              'LLm2_Kp_Sup': ('black', '-', '^', r'$-2\\mathrm{K}^{+}\\uparrow$'),\n",
    "              'LL2_Kp_Sup': ('black', '-', '^', r'$\\ \\ \\,2\\mathrm{K}^{+}\\uparrow$'),\n",
    "              'LL0_Km_Sup': ('blue', '--', '^', r'$\\ \\ \\,0\\mathrm{K}^{-}\\uparrow$'),\n",
    "              'LL1_Km_Sup': ('red', '--', '^', r'$\\ \\ \\,1\\mathrm{K}^{-}\\uparrow$'),\n",
    "              'LLm2_Km_Sup': ('black', '--', '^', r'$-2\\mathrm{K}^{-}\\uparrow$'),\n",
    "              'LL2_Km_Sup': ('black', '--', '^', r'$\\ \\ \\,2\\mathrm{K}^{-}\\uparrow$')}"
   ]
  },
  {
   "cell_type": "code",
   "execution_count": 80,
   "id": "f859e613",
   "metadata": {},
   "outputs": [],
   "source": [
    "for k,v in style_dict.items():\n",
    "    dict_tmp = {'color':v[0],\n",
    "               'line_shape':v[1],\n",
    "                'marker_shape': v[2],\n",
    "                'label': v[3]\n",
    "               }\n",
    "    style_dict[k] = dict_tmp"
   ]
  },
  {
   "cell_type": "code",
   "execution_count": 81,
   "id": "696bd0a4",
   "metadata": {},
   "outputs": [
    {
     "data": {
      "text/plain": [
       "{'LL0_Kp_Sdown': {'color': 'lightblue',\n",
       "  'line_shape': '-',\n",
       "  'marker_shape': 'v',\n",
       "  'label': '$\\\\ \\\\ \\\\,0\\\\mathrm{K}^{+}\\\\downarrow$'},\n",
       " 'LL1_Kp_Sdown': {'color': 'salmon',\n",
       "  'line_shape': '-',\n",
       "  'marker_shape': 'v',\n",
       "  'label': '$\\\\ \\\\ \\\\,1\\\\mathrm{K}^{+}\\\\downarrow$'},\n",
       " 'LLm2_Kp_Sdown': {'color': 'gray',\n",
       "  'line_shape': '-',\n",
       "  'marker_shape': 'v',\n",
       "  'label': '$-2\\\\mathrm{K}^{+}\\\\downarrow$'},\n",
       " 'LL2_Kp_Sdown': {'color': 'gray',\n",
       "  'line_shape': '-',\n",
       "  'marker_shape': 'v',\n",
       "  'label': '$\\\\ \\\\ \\\\,2\\\\mathrm{K}^{+}\\\\downarrow$'},\n",
       " 'LL0_Km_Sdown': {'color': 'lightblue',\n",
       "  'line_shape': '--',\n",
       "  'marker_shape': 'v',\n",
       "  'label': '$\\\\ \\\\ \\\\,0\\\\mathrm{K}^{-}\\\\downarrow$'},\n",
       " 'LL1_Km_Sdown': {'color': 'salmon',\n",
       "  'line_shape': '--',\n",
       "  'marker_shape': 'v',\n",
       "  'label': '$\\\\ \\\\ \\\\,1\\\\mathrm{K}^{-}\\\\downarrow$'},\n",
       " 'LLm2_Km_Sdown': {'color': 'gray',\n",
       "  'line_shape': '--',\n",
       "  'marker_shape': 'v',\n",
       "  'label': '$-2\\\\mathrm{K}^{-}\\\\downarrow$'},\n",
       " 'LL2_Km_Sdown': {'color': 'gray',\n",
       "  'line_shape': '--',\n",
       "  'marker_shape': 'v',\n",
       "  'label': '$\\\\ \\\\ \\\\,2\\\\mathrm{K}^{-}\\\\downarrow$'},\n",
       " 'LL0_Kp_Sup': {'color': 'blue',\n",
       "  'line_shape': '-',\n",
       "  'marker_shape': '^',\n",
       "  'label': '$\\\\ \\\\ \\\\,0\\\\mathrm{K}^{+}\\\\uparrow$'},\n",
       " 'LL1_Kp_Sup': {'color': 'red',\n",
       "  'line_shape': '-',\n",
       "  'marker_shape': '^',\n",
       "  'label': '$\\\\ \\\\ \\\\,1\\\\mathrm{K}^{+}\\\\uparrow$'},\n",
       " 'LLm2_Kp_Sup': {'color': 'black',\n",
       "  'line_shape': '-',\n",
       "  'marker_shape': '^',\n",
       "  'label': '$-2\\\\mathrm{K}^{+}\\\\uparrow$'},\n",
       " 'LL2_Kp_Sup': {'color': 'black',\n",
       "  'line_shape': '-',\n",
       "  'marker_shape': '^',\n",
       "  'label': '$\\\\ \\\\ \\\\,2\\\\mathrm{K}^{+}\\\\uparrow$'},\n",
       " 'LL0_Km_Sup': {'color': 'blue',\n",
       "  'line_shape': '--',\n",
       "  'marker_shape': '^',\n",
       "  'label': '$\\\\ \\\\ \\\\,0\\\\mathrm{K}^{-}\\\\uparrow$'},\n",
       " 'LL1_Km_Sup': {'color': 'red',\n",
       "  'line_shape': '--',\n",
       "  'marker_shape': '^',\n",
       "  'label': '$\\\\ \\\\ \\\\,1\\\\mathrm{K}^{-}\\\\uparrow$'},\n",
       " 'LLm2_Km_Sup': {'color': 'black',\n",
       "  'line_shape': '--',\n",
       "  'marker_shape': '^',\n",
       "  'label': '$-2\\\\mathrm{K}^{-}\\\\uparrow$'},\n",
       " 'LL2_Km_Sup': {'color': 'black',\n",
       "  'line_shape': '--',\n",
       "  'marker_shape': '^',\n",
       "  'label': '$\\\\ \\\\ \\\\,2\\\\mathrm{K}^{-}\\\\uparrow$'}}"
      ]
     },
     "execution_count": 81,
     "metadata": {},
     "output_type": "execute_result"
    }
   ],
   "source": [
    "style_dict"
   ]
  },
  {
   "cell_type": "code",
   "execution_count": null,
   "id": "951eb690",
   "metadata": {},
   "outputs": [],
   "source": []
  }
 ],
 "metadata": {
  "kernelspec": {
   "display_name": "Python 3 (ipykernel)",
   "language": "python",
   "name": "python3"
  },
  "language_info": {
   "codemirror_mode": {
    "name": "ipython",
    "version": 3
   },
   "file_extension": ".py",
   "mimetype": "text/x-python",
   "name": "python",
   "nbconvert_exporter": "python",
   "pygments_lexer": "ipython3",
   "version": "3.9.5"
  }
 },
 "nbformat": 4,
 "nbformat_minor": 5
}
